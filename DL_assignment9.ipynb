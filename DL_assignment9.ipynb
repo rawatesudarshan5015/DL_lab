{
 "cells": [
  {
   "cell_type": "code",
   "execution_count": 45,
   "id": "150f5646",
   "metadata": {},
   "outputs": [],
   "source": [
    "import numpy as np\n",
    "import pandas as pd\n",
    "import tensorflow as tf\n",
    "from tensorflow import keras\n",
    "import matplotlib.pyplot as plt\n",
    "from sklearn.metrics import confusion_matrix, classification_report, accuracy_score, precision_score, recall_score\n",
    "from sklearn.model_selection import train_test_split\n",
    "from tensorflow.keras import layers, models\n",
    "from sklearn.preprocessing import StandardScaler\n",
    "import seaborn as sns"
   ]
  },
  {
   "cell_type": "code",
   "execution_count": 46,
   "id": "b94cea62",
   "metadata": {},
   "outputs": [],
   "source": [
    "# Load the dataset\n",
    "dataset = pd.read_csv('creditcard.csv')"
   ]
  },
  {
   "cell_type": "code",
   "execution_count": 47,
   "id": "d9cfe2cd",
   "metadata": {},
   "outputs": [],
   "source": [
    "# Separate features and target labels\n",
    "X = dataset.drop('Class', axis=1)\n",
    "y = dataset['Class']"
   ]
  },
  {
   "cell_type": "code",
   "execution_count": 48,
   "id": "5167cf8a",
   "metadata": {},
   "outputs": [],
   "source": [
    "# Standardize features\n",
    "scaler = StandardScaler()\n",
    "X_scaled = scaler.fit_transform(X)\n"
   ]
  },
  {
   "cell_type": "code",
   "execution_count": 49,
   "id": "30ac6cbe",
   "metadata": {},
   "outputs": [],
   "source": [
    "\n",
    "# Split data into training and test sets, using only normal transactions (Class = 0) for training\n",
    "X_train, X_test, y_train, y_test = train_test_split(X_scaled, y, test_size=0.2, random_state=42)"
   ]
  },
  {
   "cell_type": "code",
   "execution_count": 50,
   "id": "fe0a229f",
   "metadata": {},
   "outputs": [],
   "source": [
    "# Use only normal transactions (Class = 0) for training\n",
    "X_train_normal = X_train[y_train == 0]\n",
    "X_test_normal = X_test[y_test == 0]\n",
    "X_test_anomalies = X_test[y_test == 1]"
   ]
  },
  {
   "cell_type": "code",
   "execution_count": 51,
   "id": "93deec3a",
   "metadata": {},
   "outputs": [],
   "source": [
    "# Define input dimensions\n",
    "input_dim = X_train_normal.shape[1]"
   ]
  },
  {
   "cell_type": "code",
   "execution_count": 52,
   "id": "6d8c8449",
   "metadata": {},
   "outputs": [],
   "source": [
    "encoder=models.Sequential([\n",
    "    layers.Input(shape=(input_dim,)),\n",
    "    layers.Dense(32,activation=\"relu\"),\n",
    "    layers.Dense(16,activation=\"relu\"),\n",
    "    layers.Dense(8,activation=\"relu\")\n",
    "])"
   ]
  },
  {
   "cell_type": "code",
   "execution_count": 53,
   "id": "7af5e347",
   "metadata": {},
   "outputs": [],
   "source": [
    "decoder=models.Sequential([\n",
    "    layers.Input(shape=(8,)),\n",
    "    layers.Dense(16,activation=\"relu\"),\n",
    "    layers.Dense(32,activation=\"relu\"),\n",
    "    layers.Dense(input_dim,activation=\"linear\")\n",
    "])"
   ]
  },
  {
   "cell_type": "code",
   "execution_count": 54,
   "id": "d92c9a14",
   "metadata": {},
   "outputs": [],
   "source": [
    "# Build autoencoder\n",
    "autoencoder = models.Sequential([encoder, decoder])\n",
    "autoencoder.compile(loss=\"mean_squared_error\", optimizer=\"adam\")"
   ]
  },
  {
   "cell_type": "code",
   "execution_count": 55,
   "id": "69641925",
   "metadata": {},
   "outputs": [
    {
     "name": "stdout",
     "output_type": "stream",
     "text": [
      "Epoch 1/10\n",
      "\u001b[1m3554/3554\u001b[0m \u001b[32m━━━━━━━━━━━━━━━━━━━━\u001b[0m\u001b[37m\u001b[0m \u001b[1m6s\u001b[0m 1ms/step - loss: 0.6926\n",
      "Epoch 2/10\n",
      "\u001b[1m3554/3554\u001b[0m \u001b[32m━━━━━━━━━━━━━━━━━━━━\u001b[0m\u001b[37m\u001b[0m \u001b[1m4s\u001b[0m 978us/step - loss: 0.4254\n",
      "Epoch 3/10\n",
      "\u001b[1m3554/3554\u001b[0m \u001b[32m━━━━━━━━━━━━━━━━━━━━\u001b[0m\u001b[37m\u001b[0m \u001b[1m3s\u001b[0m 962us/step - loss: 0.3673\n",
      "Epoch 4/10\n",
      "\u001b[1m3554/3554\u001b[0m \u001b[32m━━━━━━━━━━━━━━━━━━━━\u001b[0m\u001b[37m\u001b[0m \u001b[1m3s\u001b[0m 913us/step - loss: 0.3214\n",
      "Epoch 5/10\n",
      "\u001b[1m3554/3554\u001b[0m \u001b[32m━━━━━━━━━━━━━━━━━━━━\u001b[0m\u001b[37m\u001b[0m \u001b[1m4s\u001b[0m 1ms/step - loss: 0.2900\n",
      "Epoch 6/10\n",
      "\u001b[1m3554/3554\u001b[0m \u001b[32m━━━━━━━━━━━━━━━━━━━━\u001b[0m\u001b[37m\u001b[0m \u001b[1m4s\u001b[0m 1ms/step - loss: 0.2770\n",
      "Epoch 7/10\n",
      "\u001b[1m3554/3554\u001b[0m \u001b[32m━━━━━━━━━━━━━━━━━━━━\u001b[0m\u001b[37m\u001b[0m \u001b[1m4s\u001b[0m 1ms/step - loss: 0.2624\n",
      "Epoch 8/10\n",
      "\u001b[1m3554/3554\u001b[0m \u001b[32m━━━━━━━━━━━━━━━━━━━━\u001b[0m\u001b[37m\u001b[0m \u001b[1m3s\u001b[0m 944us/step - loss: 0.2552\n",
      "Epoch 9/10\n",
      "\u001b[1m3554/3554\u001b[0m \u001b[32m━━━━━━━━━━━━━━━━━━━━\u001b[0m\u001b[37m\u001b[0m \u001b[1m4s\u001b[0m 1ms/step - loss: 0.2473\n",
      "Epoch 10/10\n",
      "\u001b[1m3554/3554\u001b[0m \u001b[32m━━━━━━━━━━━━━━━━━━━━\u001b[0m\u001b[37m\u001b[0m \u001b[1m3s\u001b[0m 899us/step - loss: 0.2345\n"
     ]
    },
    {
     "data": {
      "text/plain": [
       "<keras.src.callbacks.history.History at 0x20d8c1cfd90>"
      ]
     },
     "execution_count": 55,
     "metadata": {},
     "output_type": "execute_result"
    }
   ],
   "source": [
    "# Train the autoencoder on normal transactions only\n",
    "autoencoder.fit(X_train_normal, X_train_normal, epochs=10, shuffle=True, batch_size=64)\n"
   ]
  },
  {
   "cell_type": "code",
   "execution_count": 56,
   "id": "4862af3f",
   "metadata": {},
   "outputs": [
    {
     "name": "stdout",
     "output_type": "stream",
     "text": [
      "\u001b[1m1781/1781\u001b[0m \u001b[32m━━━━━━━━━━━━━━━━━━━━\u001b[0m\u001b[37m\u001b[0m \u001b[1m2s\u001b[0m 1ms/step\n"
     ]
    }
   ],
   "source": [
    "# Predict and calculate MSE on the test set\n",
    "y_pred = autoencoder.predict(X_test)\n",
    "mse = np.mean(np.power(X_test - y_pred, 2), axis=1)"
   ]
  },
  {
   "cell_type": "code",
   "execution_count": 57,
   "id": "d465f147",
   "metadata": {},
   "outputs": [
    {
     "name": "stdout",
     "output_type": "stream",
     "text": [
      "Reconstruction error threshold: 0.6932234928761523\n"
     ]
    }
   ],
   "source": [
    "# Set a threshold based on the 95th percentile of reconstruction errors on the normal test data\n",
    "threshold = np.percentile(mse[y_test == 0], 95)\n",
    "print(\"Reconstruction error threshold:\", threshold)"
   ]
  },
  {
   "cell_type": "code",
   "execution_count": 58,
   "id": "454b3905",
   "metadata": {},
   "outputs": [
    {
     "name": "stdout",
     "output_type": "stream",
     "text": [
      "Total No. of Anomalies Detected: 2928\n"
     ]
    }
   ],
   "source": [
    "# Identify anomalies based on the threshold\n",
    "anomalies = mse > threshold\n",
    "total_anomalies = np.sum(anomalies)\n",
    "print(\"Total No. of Anomalies Detected:\", total_anomalies)"
   ]
  },
  {
   "cell_type": "code",
   "execution_count": 59,
   "id": "e6a0015c",
   "metadata": {},
   "outputs": [
    {
     "data": {
      "image/png": "[encoded data removed]",
      "text/plain": [
       "<Figure size 1200x600 with 1 Axes>"
      ]
     },
     "metadata": {},
     "output_type": "display_data"
    }
   ],
   "source": [
    "# Plot the MSE and threshold for visualization\n",
    "plt.figure(figsize=(12,6))\n",
    "plt.plot(mse, label=\"MSE\", marker='o', linestyle='', markersize=3)\n",
    "plt.axhline(threshold, label=\"Threshold\", color=\"red\")\n",
    "plt.xlabel(\"Index\")\n",
    "plt.ylabel(\"MSE\")\n",
    "plt.title(\"Anomaly Detection\")\n",
    "plt.legend()\n",
    "plt.show()"
   ]
  },
  {
   "cell_type": "code",
   "execution_count": 60,
   "id": "945fddb4",
   "metadata": {},
   "outputs": [
    {
     "name": "stdout",
     "output_type": "stream",
     "text": [
      "Confusion Matrix:\n",
      "[[54020  2844]\n",
      " [   14    84]]\n"
     ]
    }
   ],
   "source": [
    "# Evaluate with confusion matrix and classification report\n",
    "print(\"Confusion Matrix:\")\n",
    "conf_matrix = confusion_matrix(y_test, anomalies)\n",
    "print(conf_matrix)"
   ]
  },
  {
   "cell_type": "code",
   "execution_count": 61,
   "id": "801797ab",
   "metadata": {},
   "outputs": [
    {
     "name": "stdout",
     "output_type": "stream",
     "text": [
      "Classification Report:\n",
      "              precision    recall  f1-score   support\n",
      "\n",
      "           0       1.00      0.95      0.97     56864\n",
      "           1       0.03      0.86      0.06        98\n",
      "\n",
      "    accuracy                           0.95     56962\n",
      "   macro avg       0.51      0.90      0.51     56962\n",
      "weighted avg       1.00      0.95      0.97     56962\n",
      "\n"
     ]
    }
   ],
   "source": [
    "print(\"Classification Report:\")\n",
    "class_report = classification_report(y_test, anomalies)\n",
    "print(class_report)"
   ]
  },
  {
   "cell_type": "code",
   "execution_count": 62,
   "id": "1b51bee4",
   "metadata": {},
   "outputs": [
    {
     "data": {
      "image/png": "[encoded data removed]",
      "text/plain": [
       "<Figure size 600x400 with 1 Axes>"
      ]
     },
     "metadata": {},
     "output_type": "display_data"
    }
   ],
   "source": [
    "# Plot Confusion Matrix using Seaborn\n",
    "plt.figure(figsize=(6,4))\n",
    "sns.heatmap(conf_matrix, annot=True, fmt='d', cmap='Blues', cbar=False, annot_kws={\"size\": 16})\n",
    "plt.xlabel(\"Predicted Class\")\n",
    "plt.ylabel(\"True Class\")\n",
    "plt.title(\"Confusion Matrix\")\n",
    "plt.show()"
   ]
  },
  {
   "cell_type": "code",
   "execution_count": 63,
   "id": "357b6ea1",
   "metadata": {},
   "outputs": [],
   "source": [
    "# Calculate evaluation metrics\n",
    "accuracy = accuracy_score(y_test, anomalies)\n",
    "precision = precision_score(y_test, anomalies)\n",
    "recall = recall_score(y_test, anomalies)"
   ]
  },
  {
   "cell_type": "code",
   "execution_count": 64,
   "id": "0d3a164f",
   "metadata": {},
   "outputs": [
    {
     "name": "stdout",
     "output_type": "stream",
     "text": [
      "Accuracy: 0.9498\n",
      "Precision: 0.0287\n",
      "Recall: 0.8571\n"
     ]
    }
   ],
   "source": [
    "print(f\"Accuracy: {accuracy:.4f}\")\n",
    "print(f\"Precision: {precision:.4f}\")\n",
    "print(f\"Recall: {recall:.4f}\")"
   ]
  }
 ],
 "metadata": {
  "kernelspec": {
   "display_name": "Python 3 (ipykernel)",
   "language": "python",
   "name": "python3"
  },
  "language_info": {
   "codemirror_mode": {
    "name": "ipython",
    "version": 3
   },
   "file_extension": ".py",
   "mimetype": "text/x-python",
   "name": "python",
   "nbconvert_exporter": "python",
   "pygments_lexer": "ipython3",
   "version": "3.11.3"
  }
 },
 "nbformat": 4,
 "nbformat_minor": 5
}
